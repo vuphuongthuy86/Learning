{
 "cells": [
  {
   "cell_type": "code",
   "execution_count": 1,
   "metadata": {},
   "outputs": [],
   "source": [
    "import ee\n",
    "import geemap"
   ]
  },
  {
   "cell_type": "code",
   "execution_count": 2,
   "metadata": {},
   "outputs": [],
   "source": [
    "L8bands = ['B1','B2', 'B3', 'B4', 'B5', 'B6', 'B7', 'B10', 'B11']"
   ]
  },
  {
   "cell_type": "code",
   "execution_count": 3,
   "metadata": {},
   "outputs": [],
   "source": [
    "Map = geemap.Map()\n",
    "# Map"
   ]
  },
  {
   "cell_type": "code",
   "execution_count": 4,
   "metadata": {},
   "outputs": [],
   "source": [
    "def maskL8sr(image):\n",
    "    # Bits 3 and 5 are cloud shadow and cloud, respectively.\n",
    "    cloudShadowBitMask = 1 << 3\n",
    "    cloudsBitMask = 1 << 5\n",
    "    # Get the pixel QA band.\n",
    "    qa = image.select('pixel_qa')\n",
    "    # Both flags should be set to zero, indicating clear conditions.\n",
    "    mask = qa.bitwiseAnd(cloudShadowBitMask).eq(0).And(qa.bitwiseAnd(cloudsBitMask).eq(0))\n",
    "    # Return the masked image, scaled to TOA reflectance, without the QA bands.\n",
    "    return image.updateMask(mask).divide(10000).select(L8bands).copyProperties(image, [\"system:time_start\"])"
   ]
  },
  {
   "cell_type": "code",
   "execution_count": 5,
   "metadata": {},
   "outputs": [],
   "source": [
    "# Creating an add variable function for Landsat 8 index calculation.\n",
    "def compute_indices(image):\n",
    "    NDVI = image.expression('(B5-B4)/(B5+B4)', \n",
    "                            {'B4': image.select('B4'),\n",
    "                             'B5': image.select('B5')}).rename('ndvi')\n",
    "    MNDWI = image.expression('(B3-B6) / (B3+B6)',\n",
    "                             {'B3': image.select('B3'),\n",
    "                              'B6': image.select('B6')}).rename('mndwi')\n",
    "    EVI = image.expression('2.5 * ((B5 - B4)/(B5 +(6*B4)-(7.5*B2)+1))',\n",
    "                           {'B2': image.select('B2'),\n",
    "                            'B4': image.select('B4'),\n",
    "                            'B5': image.select('B5')}).rename('evi')\n",
    "    LSWI = image.expression('(B5-B6)/(B5+B6)', \n",
    "                            {'B5': image.select('B5'),\n",
    "                             'B6': image.select('B6')}).rename('lswi')\n",
    "    return image.addBands(NDVI).addBands(MNDWI).addBands(EVI).addBands(LSWI)"
   ]
  },
  {
   "cell_type": "code",
   "execution_count": null,
   "metadata": {},
   "outputs": [],
   "source": []
  }
 ],
 "metadata": {
  "kernelspec": {
   "display_name": "Python 3",
   "language": "python",
   "name": "python3"
  },
  "language_info": {
   "codemirror_mode": {
    "name": "ipython",
    "version": 3
   },
   "file_extension": ".py",
   "mimetype": "text/x-python",
   "name": "python",
   "nbconvert_exporter": "python",
   "pygments_lexer": "ipython3",
   "version": "3.8.5"
  }
 },
 "nbformat": 4,
 "nbformat_minor": 4
}
