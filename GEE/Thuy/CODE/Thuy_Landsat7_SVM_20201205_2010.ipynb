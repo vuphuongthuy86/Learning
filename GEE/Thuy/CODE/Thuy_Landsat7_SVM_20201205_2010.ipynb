{
 "cells": [
  {
   "cell_type": "code",
   "execution_count": 1,
   "metadata": {},
   "outputs": [],
   "source": [
    "import ee\n",
    "import geemap\n",
    "import random"
   ]
  },
  {
   "cell_type": "code",
   "execution_count": 2,
   "metadata": {},
   "outputs": [],
   "source": [
    "L7bands = ['B1','B2', 'B3', 'B4', 'B5', 'B6', 'B7']"
   ]
  },
  {
   "cell_type": "code",
   "execution_count": 3,
   "metadata": {},
   "outputs": [],
   "source": [
    "Map = geemap.Map()\n",
    "# Map"
   ]
  },
  {
   "cell_type": "code",
   "execution_count": 4,
   "metadata": {},
   "outputs": [],
   "source": [
    "def maskL7sr(image):\n",
    "    # Bits 3 and 5 are cloud shadow and cloud, respectively.\n",
    "    cloudShadowBitMask = 1 << 3\n",
    "    cloudsBitMask = 1 << 5\n",
    "    # Get the pixel QA band.\n",
    "    qa = image.select('pixel_qa')\n",
    "    # Both flags should be set to zero, indicating clear conditions.\n",
    "    mask = qa.bitwiseAnd(cloudShadowBitMask).eq(0).And(qa.bitwiseAnd(cloudsBitMask).eq(0))\n",
    "    # Return the masked image, scaled to TOA reflectance, without the QA bands.\n",
    "    return image.updateMask(mask).divide(10000).select(L8bands).copyProperties(image, [\"system:time_start\"])"
   ]
  },
  {
   "cell_type": "code",
   "execution_count": 5,
   "metadata": {},
   "outputs": [],
   "source": [
    "# Creating an add variable function for Landsat 7 index calculation.\n",
    "def compute_indices(image):\n",
    "    NDVI = image.expression('(B4-B3)/(B4+B3)', \n",
    "                            {'B3': image.select('B3'),\n",
    "                             'B4': image.select('B4')}).rename('ndvi')\n",
    "    MNDWI = image.expression('(B2-B5) / (B2+B5)',\n",
    "                             {'B2': image.select('B2'),\n",
    "                              'B5': image.select('B5')}).rename('mndwi')\n",
    "    EVI = image.expression('2.5 * ((B4 - B3)/(B4 +(6*B3)-(7.5*B1)+1))',\n",
    "                           {'B1': image.select('B1'),\n",
    "                            'B3': image.select('B3'),\n",
    "                            'B4': image.select('B4')}).rename('evi')\n",
    "    LSWI = image.expression('(B4-B5)/(B4+B5)', \n",
    "                            {'B4': image.select('B4'),\n",
    "                             'B5': image.select('B5')}).rename('lswi')\n",
    "    return image.addBands(NDVI).addBands(MNDWI).addBands(EVI).addBands(LSWI)"
   ]
  },
  {
   "cell_type": "code",
   "execution_count": 6,
   "metadata": {},
   "outputs": [],
   "source": [
    "point = ee.Geometry.Point([106.4943, 20.4858])\n",
    "\n",
    "image = ee.ImageCollection('LANDSAT/LE07/C01/T1_SR') \\\n",
    "    .filterBounds(point) \\\n",
    "    .filterDate('2010-01-01', '2010-12-31') \\\n",
    "    .sort('CLOUD_COVER') \\\n",
    "    .first() \\\n",
    "    .select('B[1-7]')\n",
    "\n",
    "vis_params = {\n",
    "    'min': 0,\n",
    "    'max': 3000,\n",
    "    'bands': ['B3', 'B2', 'B1']\n",
    "}\n",
    "\n",
    "Map.centerObject(point, 8)\n",
    "Map.addLayer(image, vis_params, \"Landsat-7\")\n",
    "# Map"
   ]
  },
  {
   "cell_type": "code",
   "execution_count": 7,
   "metadata": {},
   "outputs": [],
   "source": [
    "# Add the boundary of Thai Binh province\n",
    "# red_river_delta_shp = 'D:/@MASTER THESIS/@Programming/@Jupyter/Learning/GEE/Thuy/Provinces_Polygon/Provinces_Poly.shp'\n",
    "red_river_delta_shp = 'D:/Software/Jupyter/Thesis/Learning/GEE/Thuy/Provinces_PolygonN/Provinces_Poly.shp'\n",
    "red_river_delta = geemap.shp_to_ee(red_river_delta_shp)"
   ]
  },
  {
   "cell_type": "code",
   "execution_count": 8,
   "metadata": {},
   "outputs": [
    {
     "data": {
      "application/vnd.jupyter.widget-view+json": {
       "model_id": "556a43bff63c44108a7933ec85e8c503",
       "version_major": 2,
       "version_minor": 0
      },
      "text/plain": [
       "Map(center=[20.50075230416886, 106.47941624308001], controls=(WidgetControl(options=['position'], widget=HBox(…"
      ]
     },
     "metadata": {},
     "output_type": "display_data"
    }
   ],
   "source": [
    "Map.addLayer(red_river_delta, {},\"TB+ND+HP provinces\")\n",
    "Map.centerObject(red_river_delta, 9)\n",
    "Map"
   ]
  },
  {
   "cell_type": "code",
   "execution_count": 9,
   "metadata": {},
   "outputs": [],
   "source": [
    "image_clip = image.clip(red_river_delta)\n",
    "# Map.centerObject(point, 8)\n",
    "# Map.addLayer(image_clip, vis_params, \"Landsat-8\")\n",
    "# Map"
   ]
  },
  {
   "cell_type": "code",
   "execution_count": 10,
   "metadata": {},
   "outputs": [],
   "source": [
    "img_compute = compute_indices(image_clip)"
   ]
  },
  {
   "cell_type": "code",
   "execution_count": 11,
   "metadata": {},
   "outputs": [],
   "source": [
    "image_select = img_compute.select('ndvi', 'mndwi', 'evi', 'lswi')"
   ]
  },
  {
   "cell_type": "code",
   "execution_count": 12,
   "metadata": {},
   "outputs": [
    {
     "data": {
      "application/vnd.jupyter.widget-view+json": {
       "model_id": "556a43bff63c44108a7933ec85e8c503",
       "version_major": 2,
       "version_minor": 0
      },
      "text/plain": [
       "Map(center=[20.50075230416886, 106.47941624308001], controls=(WidgetControl(options=['position'], widget=HBox(…"
      ]
     },
     "metadata": {},
     "output_type": "display_data"
    }
   ],
   "source": [
    "# Add training markers from shape files\n",
    "# agriculture_shp = 'D:/Software/Jupyter/Thesis/Learning/GEE/Thuy/Markers 20201205/Training/Agriculture_Training.shp'\n",
    "# evergreen_shp = 'D:/Software/Jupyter/Thesis/Learning/GEE/Thuy/Markers 20201205/Training/Evergreen_Training.shp'\n",
    "# mangrove_shp = 'D:/Software/Jupyter/Thesis/Learning/GEE/Thuy/Markers 20201205/Training/Mangrove.shp'\n",
    "# others_shp = 'D:/Software/Jupyter/Thesis/Learning/GEE/Thuy/Markers 20201205/Training/Other.shp'\n",
    "# residence_shp = 'D:/Software/Jupyter/Thesis/Learning/GEE/Thuy/Markers 20201205/Training/Residental area_Training.shp'\n",
    "# shrimp_shp = 'D:/Software/Jupyter/Thesis/Learning/GEE/Thuy/Markers 20201205/Training/Shrimp.shp'\n",
    "# water_shp = 'D:/Software/Jupyter/Thesis/Learning/GEE/Thuy/Markers 20201205/Training/Water_Training.shp'\n",
    "\n",
    "agriculture_shp = 'D:/Software/Jupyter/Thesis/Learning/GEE/Thuy/Sample_final/Sample/Training/Agriculture_Training.shp'\n",
    "evergreen_shp = 'D:/Software/Jupyter/Thesis/Learning/GEE/Thuy/Sample_final/Sample/Training/Evergreen_Training.shp'\n",
    "mangrove_shp = 'D:/Software/Jupyter/Thesis/Learning/GEE/Thuy/Sample_final/Sample/Training/Mangrove.shp'\n",
    "others_shp = 'D:/Software/Jupyter/Thesis/Learning/GEE/Thuy/Sample_final/Sample/Training/Other.shp'\n",
    "residence_shp = 'D:/Software/Jupyter/Thesis/Learning/GEE/Thuy/Sample_final/Sample/Training/Residental area_Training.shp'\n",
    "shrimp_shp = 'D:/Software/Jupyter/Thesis/Learning/GEE/Thuy/Sample_final/Sample/Training/Shrimp.shp'\n",
    "water_shp = 'D:/Software/Jupyter/Thesis/Learning/GEE/Thuy/Sample_final/Sample/Training/Water_Training.shp'\n",
    "\n",
    "# D:\\Software\\Jupyter\\Thesis\\Learning\\GEE\\Thuy\\Sample_final\\Sample\\Training\n",
    "\n",
    "# agriculture_shp = 'D:/@MASTER THESIS/@Programming/@Jupyter/Learning/GEE/Thuy/Markers/agriculture_markers.shp'\n",
    "# evergreen_shp = 'D:/@MASTER THESIS/@Programming/@Jupyter/Learning/GEE/Thuy/Markers/evergreen_markers.shp'\n",
    "# mangrove_shp = 'D:/@MASTER THESIS/@Programming/@Jupyter/Learning/GEE/Thuy/Markers/mangrove_markers.shp'\n",
    "# others_shp = 'D:/@MASTER THESIS/@Programming/@Jupyter/Learning/GEE/Thuy/Markers/other_markers.shp'\n",
    "# residence_shp = 'D:/@MASTER THESIS/@Programming/@Jupyter/Learning/GEE/Thuy/Markers/residence_markers.shp'\n",
    "# shrimp_shp = 'D:/@MASTER THESIS/@Programming/@Jupyter/Learning/GEE/Thuy/Markers/shrimp_markers.shp'\n",
    "# water_shp = 'D:/@MASTER THESIS/@Programming/@Jupyter/Learning/GEE/Thuy/Markers/water_markers.shp'\n",
    "    \n",
    "# Shape files to ee objects\n",
    "tr_agriculture = geemap.shp_to_ee(agriculture_shp)\n",
    "tr_evergreen = geemap.shp_to_ee(evergreen_shp)\n",
    "tr_mangrove = geemap.shp_to_ee(mangrove_shp)\n",
    "tr_others = geemap.shp_to_ee(others_shp)\n",
    "tr_residence = geemap.shp_to_ee(residence_shp)\n",
    "tr_shrimp = geemap.shp_to_ee(shrimp_shp)\n",
    "tr_water = geemap.shp_to_ee(water_shp)\n",
    "\n",
    "# Make markers collections\n",
    "tr_classNames = tr_agriculture.merge(tr_evergreen).merge(tr_mangrove). \\\n",
    "                               merge(tr_others).merge(tr_residence). \\\n",
    "                               merge(tr_shrimp).merge(tr_water)\n",
    "# Show the markers on map\n",
    "Map.addLayer(tr_classNames, {}, 'Markers')\n",
    "Map"
   ]
  },
  {
   "cell_type": "code",
   "execution_count": 13,
   "metadata": {},
   "outputs": [],
   "source": [
    "# Set bands and label for classifier\n",
    "bands = ['ndvi', 'mndwi', 'evi', 'lswi']\n",
    "label = 'landcover'"
   ]
  },
  {
   "cell_type": "code",
   "execution_count": 14,
   "metadata": {},
   "outputs": [],
   "source": [
    "sample = image_select.select(bands).sampleRegions(**{\n",
    "    'collection': tr_classNames,\n",
    "    'properties': [label],\n",
    "    'scale': 30\n",
    "})"
   ]
  },
  {
   "cell_type": "code",
   "execution_count": 15,
   "metadata": {},
   "outputs": [],
   "source": [
    "# Adds a column of deterministic pseudorandom numbers. \n",
    "random.seed(2020)\n",
    "sample = sample.randomColumn()\n",
    "split = 0.7"
   ]
  },
  {
   "cell_type": "code",
   "execution_count": 16,
   "metadata": {},
   "outputs": [],
   "source": [
    "# get training data which is 0.7 of sample\n",
    "training = sample.filter(ee.Filter.lt('random', split))"
   ]
  },
  {
   "cell_type": "code",
   "execution_count": 17,
   "metadata": {},
   "outputs": [],
   "source": [
    "# get validation/test data which is 0.3 of sample\n",
    "validation = sample.filter(ee.Filter.gte('random', split))"
   ]
  },
  {
   "cell_type": "code",
   "execution_count": 18,
   "metadata": {},
   "outputs": [],
   "source": [
    "# classify training data by randomForest\n",
    "# img_classifier = ee.Classifier.smileRandomForest(10).train(training, label, bands)\n",
    "# classifier = ee.Classifier.smileRandomForest(10).train(training, label, bands)\n",
    "classifier = ee.Classifier.libsvm(kernelType= 'RBF', gamma= 0.5, cost= 10).train(training, label, bands)"
   ]
  },
  {
   "cell_type": "code",
   "execution_count": 19,
   "metadata": {},
   "outputs": [],
   "source": [
    "# Run the classification\n",
    "classified = image_select.select(bands).classify(classifier)"
   ]
  },
  {
   "cell_type": "code",
   "execution_count": 20,
   "metadata": {},
   "outputs": [
    {
     "data": {
      "application/vnd.jupyter.widget-view+json": {
       "model_id": "556a43bff63c44108a7933ec85e8c503",
       "version_major": 2,
       "version_minor": 0
      },
      "text/plain": [
       "Map(center=[20.50075230416886, 106.47941624308001], controls=(WidgetControl(options=['position'], widget=HBox(…"
      ]
     },
     "metadata": {},
     "output_type": "display_data"
    }
   ],
   "source": [
    "# Display classification\n",
    "cl_vis_params = {\n",
    "    'min': 1, \n",
    "    'max': 7, \n",
    "    'palette': ['#98ff00','#0b4a8b','#ffc82d','#00ffff','#bf04c2','#ff0000','#008800']\n",
    "}\n",
    "\n",
    "legend_keys = ['Mangrove', 'Shrimp', 'Residence', 'Water','Agriculture','Other','Evergreen']\n",
    "legend_colors = ['#98ff00','#0b4a8b','#ffc82d','#00ffff','#bf04c2','#ff0000','#008800']\n",
    "\n",
    "Map.centerObject(red_river_delta, 10)\n",
    "Map.addLayer(classified, cl_vis_params, 'classification')\n",
    "Map.add_legend(legend_keys=legend_keys, legend_colors=legend_colors, position='bottomright')\n",
    "Map"
   ]
  },
  {
   "cell_type": "code",
   "execution_count": 21,
   "metadata": {},
   "outputs": [],
   "source": [
    "# Training dataset\n",
    "train_accuracy = classifier.confusionMatrix()"
   ]
  },
  {
   "cell_type": "code",
   "execution_count": 22,
   "metadata": {},
   "outputs": [
    {
     "data": {
      "text/plain": [
       "[[0, 0, 0, 0, 0, 0, 0, 0],\n",
       " [0, 401, 72, 5, 1, 47, 0, 1],\n",
       " [0, 63, 146, 24, 13, 15, 0, 0],\n",
       " [0, 13, 3, 130, 0, 7, 0, 0],\n",
       " [0, 32, 21, 1, 32, 2, 0, 0],\n",
       " [0, 81, 4, 35, 0, 175, 0, 2],\n",
       " [0, 19, 1, 40, 0, 9, 0, 0],\n",
       " [0, 6, 0, 0, 0, 0, 0, 87]]"
      ]
     },
     "execution_count": 22,
     "metadata": {},
     "output_type": "execute_result"
    }
   ],
   "source": [
    "train_accuracy.getInfo()"
   ]
  },
  {
   "cell_type": "code",
   "execution_count": 23,
   "metadata": {},
   "outputs": [
    {
     "data": {
      "text/plain": [
       "0.6525537634408602"
      ]
     },
     "execution_count": 23,
     "metadata": {},
     "output_type": "execute_result"
    }
   ],
   "source": [
    "train_accuracy.accuracy().getInfo()"
   ]
  },
  {
   "cell_type": "code",
   "execution_count": 24,
   "metadata": {},
   "outputs": [
    {
     "data": {
      "text/plain": [
       "0.5478623115152599"
      ]
     },
     "execution_count": 24,
     "metadata": {},
     "output_type": "execute_result"
    }
   ],
   "source": [
    "train_accuracy.kappa().getInfo()"
   ]
  },
  {
   "cell_type": "code",
   "execution_count": 25,
   "metadata": {},
   "outputs": [
    {
     "data": {
      "text/plain": [
       "[[0],\n",
       " [0.7609108159392789],\n",
       " [0.5593869731800766],\n",
       " [0.8496732026143791],\n",
       " [0.36363636363636365],\n",
       " [0.5892255892255892],\n",
       " [0],\n",
       " [0.9354838709677419]]"
      ]
     },
     "execution_count": 25,
     "metadata": {},
     "output_type": "execute_result"
    }
   ],
   "source": [
    "train_accuracy.producersAccuracy().getInfo()"
   ]
  },
  {
   "cell_type": "code",
   "execution_count": 26,
   "metadata": {},
   "outputs": [
    {
     "data": {
      "text/plain": [
       "[[0,\n",
       "  0.6520325203252032,\n",
       "  0.5910931174089069,\n",
       "  0.5531914893617021,\n",
       "  0.6956521739130435,\n",
       "  0.6862745098039216,\n",
       "  0,\n",
       "  0.9666666666666667]]"
      ]
     },
     "execution_count": 26,
     "metadata": {},
     "output_type": "execute_result"
    }
   ],
   "source": [
    "train_accuracy.consumersAccuracy().getInfo()"
   ]
  },
  {
   "cell_type": "code",
   "execution_count": 27,
   "metadata": {},
   "outputs": [],
   "source": [
    "# Validation dataset\n",
    "validated = validation.classify(classifier)"
   ]
  },
  {
   "cell_type": "code",
   "execution_count": 28,
   "metadata": {},
   "outputs": [
    {
     "data": {
      "text/plain": [
       "{'type': 'Feature',\n",
       " 'geometry': None,\n",
       " 'id': '1_1_1_1_1_1_0_0',\n",
       " 'properties': {'classification': 1,\n",
       "  'evi': 0.22936698717948717,\n",
       "  'landcover': 5,\n",
       "  'lswi': 0.6184296011924744,\n",
       "  'mndwi': 0.4991482198238373,\n",
       "  'ndvi': 0.1011037528514862,\n",
       "  'random': 0.9051248993813626}}"
      ]
     },
     "execution_count": 28,
     "metadata": {},
     "output_type": "execute_result"
    }
   ],
   "source": [
    "validated.first().getInfo()"
   ]
  },
  {
   "cell_type": "code",
   "execution_count": 29,
   "metadata": {},
   "outputs": [],
   "source": [
    "test_accuracy = validated.errorMatrix('landcover', 'classification')"
   ]
  },
  {
   "cell_type": "code",
   "execution_count": 30,
   "metadata": {},
   "outputs": [
    {
     "data": {
      "text/plain": [
       "[[0, 0, 0, 0, 0, 0, 0, 0],\n",
       " [0, 164, 21, 2, 1, 26, 0, 4],\n",
       " [0, 26, 50, 5, 7, 6, 0, 0],\n",
       " [0, 9, 3, 50, 0, 0, 0, 1],\n",
       " [0, 13, 9, 0, 10, 4, 0, 0],\n",
       " [0, 44, 6, 13, 0, 80, 0, 1],\n",
       " [0, 6, 3, 15, 0, 3, 0, 0],\n",
       " [0, 5, 1, 0, 0, 1, 0, 28]]"
      ]
     },
     "execution_count": 30,
     "metadata": {},
     "output_type": "execute_result"
    }
   ],
   "source": [
    "test_accuracy.getInfo()"
   ]
  },
  {
   "cell_type": "code",
   "execution_count": 31,
   "metadata": {},
   "outputs": [
    {
     "data": {
      "text/plain": [
       "0.6191247974068071"
      ]
     },
     "execution_count": 31,
     "metadata": {},
     "output_type": "execute_result"
    }
   ],
   "source": [
    "test_accuracy.accuracy().getInfo()"
   ]
  },
  {
   "cell_type": "code",
   "execution_count": 32,
   "metadata": {},
   "outputs": [
    {
     "data": {
      "text/plain": [
       "0.49875202234605975"
      ]
     },
     "execution_count": 32,
     "metadata": {},
     "output_type": "execute_result"
    }
   ],
   "source": [
    "test_accuracy.kappa().getInfo()"
   ]
  },
  {
   "cell_type": "code",
   "execution_count": 33,
   "metadata": {},
   "outputs": [
    {
     "data": {
      "text/plain": [
       "[[0],\n",
       " [0.7522935779816514],\n",
       " [0.5319148936170213],\n",
       " [0.7936507936507936],\n",
       " [0.2777777777777778],\n",
       " [0.5555555555555556],\n",
       " [0],\n",
       " [0.8]]"
      ]
     },
     "execution_count": 33,
     "metadata": {},
     "output_type": "execute_result"
    }
   ],
   "source": [
    "test_accuracy.producersAccuracy().getInfo()"
   ]
  },
  {
   "cell_type": "code",
   "execution_count": 34,
   "metadata": {},
   "outputs": [
    {
     "data": {
      "text/plain": [
       "[[0,\n",
       "  0.6142322097378277,\n",
       "  0.5376344086021505,\n",
       "  0.5882352941176471,\n",
       "  0.5555555555555556,\n",
       "  0.6666666666666666,\n",
       "  0,\n",
       "  0.8235294117647058]]"
      ]
     },
     "execution_count": 34,
     "metadata": {},
     "output_type": "execute_result"
    }
   ],
   "source": [
    "test_accuracy.consumersAccuracy().getInfo()"
   ]
  },
  {
   "cell_type": "code",
   "execution_count": 35,
   "metadata": {},
   "outputs": [],
   "source": [
    "import csv\n",
    "import os\n",
    "\n",
    "out_dir = os.path.join(os.path.expanduser('D:/Software/Jupyter/Thesis/Learning/GEE/Thuy/'), 'Results')\n",
    "#D:\\Software\\Jupyter\\Thesis\\Learning\\GEE\\Thuy\n",
    "training_csv = os.path.join(out_dir, 'train_accuracy_rf.csv')\n",
    "testing_csv = os.path.join(out_dir, 'test_accuracy_rf.csv')\n",
    "\n",
    "with open(training_csv, \"w\", newline=\"\") as f:\n",
    "    writer = csv.writer(f)\n",
    "    writer.writerows(train_accuracy.getInfo())\n",
    "    \n",
    "with open(testing_csv, \"w\", newline=\"\") as f:\n",
    "    writer = csv.writer(f)\n",
    "    writer.writerows(test_accuracy.getInfo())"
   ]
  },
  {
   "cell_type": "code",
   "execution_count": 36,
   "metadata": {},
   "outputs": [],
   "source": [
    "# Export the result"
   ]
  },
  {
   "cell_type": "code",
   "execution_count": 37,
   "metadata": {},
   "outputs": [],
   "source": [
    "import os\n",
    "out_dir = os.path.join(os.path.expanduser('D:/Software/Jupyter/Thesis/Learning/GEE/Thuy/'), 'Results')\n",
    "#D:\\Software\\Jupyter\\Thesis\\Learning\\GEE\\Thuy\n",
    "out_file = os.path.join(out_dir, 'landcover_rf.tif')"
   ]
  },
  {
   "cell_type": "code",
   "execution_count": 38,
   "metadata": {},
   "outputs": [
    {
     "name": "stdout",
     "output_type": "stream",
     "text": [
      "Generating URL ...\n",
      "Downloading data from https://earthengine.googleapis.com/v1alpha/projects/earthengine-legacy/thumbnails/d2f5b47d521016f0f825f8d3598b45e4-900247963e97dc1db9bec232d3dfafba:getPixels\n",
      "Please wait ...\n",
      "Data downloaded to D:\\Software\\Jupyter\\Thesis\\Learning\\GEE\\Thuy\\Results\\landcover_rf.tif\n"
     ]
    }
   ],
   "source": [
    "# Export the result directly to your computer:\n",
    "geemap.ee_export_image(classified, filename=out_file, scale=900)"
   ]
  },
  {
   "cell_type": "code",
   "execution_count": null,
   "metadata": {},
   "outputs": [],
   "source": []
  }
 ],
 "metadata": {
  "kernelspec": {
   "display_name": "Python 3",
   "language": "python",
   "name": "python3"
  },
  "language_info": {
   "codemirror_mode": {
    "name": "ipython",
    "version": 3
   },
   "file_extension": ".py",
   "mimetype": "text/x-python",
   "name": "python",
   "nbconvert_exporter": "python",
   "pygments_lexer": "ipython3",
   "version": "3.8.3"
  }
 },
 "nbformat": 4,
 "nbformat_minor": 4
}
